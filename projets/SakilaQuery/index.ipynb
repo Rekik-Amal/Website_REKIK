{
  "cells": [
    {
      "cell_type": "raw",
      "metadata": {},
      "source": [
        "---\n",
        "title: \"🎬 SakilaQuery\"\n",
        "title-block-banner: true\n",
        "author: \"Amal REKIK\"\n",
        "categories: [\"SQL\", \"Python\"]\n",
        "description: \"Analyse de la base de données cinématographique Sakila à travers des requêtes SQL avancées et une exploration visuelle.\"\n",
        "date: 2025-04-20\n",
        "date-format: DD/MM/YYYY\n",
        "image: sakilaquery/imgs/sakila_Query.png\n",
        "highlight-style: pygments\n",
        "filters: \n",
        "        - include-code-files\n",
        "---"
      ],
      "id": "8762aae7"
    },
    {
      "cell_type": "code",
      "metadata": {},
      "source": [
        "from itables import init_notebook_mode\n",
        "from pathlib import Path\n",
        "import polars as pl\n",
        "import sqlite3\n",
        "\n",
        "# 🔧 Initialisation interactive pour affichage dynamique\n",
        "init_notebook_mode(all_interactive=True)\n",
        "\n",
        "# 🛢️ Connexion à la base Sakila\n",
        "conn = sqlite3.connect(\"sakila.db\")"
      ],
      "id": "a60beef9",
      "execution_count": null,
      "outputs": []
    },
    {
      "cell_type": "code",
      "metadata": {},
      "source": [
        "# | code-fold: true\n",
        "# | code-summary: \"Fonction pour exécuter une requête SQL\"\n",
        "def table_query_results(query_file: str, conn: sqlite3.Connection):\n",
        "    \"\"\"\n",
        "    Exécute une requête SQL à partir d’un fichier et retourne les résultats sous forme de tableau Polars.\n",
        "\n",
        "    Args:\n",
        "        query_file (str): Chemin vers le fichier contenant la requête SQL.\n",
        "        conn (sqlite3.Connection): Connexion active à la base de données SQLite.\n",
        "\n",
        "    Returns:\n",
        "        pl.DataFrame: Résultats de la requête sous forme de tableau.\n",
        "    \"\"\"\n",
        "    query_path = Path(query_file)\n",
        "    with query_path.open(\"r\", encoding=\"utf-8\") as file:\n",
        "        query = file.read()\n",
        "\n",
        "    results = conn.execute(query)\n",
        "    column_names = [col[0] for col in results.description]\n",
        "    dataframe = pl.DataFrame(results.fetchall(), schema=column_names)\n",
        "\n",
        "    return dataframe"
      ],
      "id": "24053733",
      "execution_count": null,
      "outputs": []
    },
    {
      "cell_type": "markdown",
      "metadata": {},
      "source": [
        "##ERD\n",
        "\n",
        "\n",
        "```{mermaid}\n",
        "erDiagram\n",
        "\n",
        "    ACTOR {\n",
        "        INT actor_id PK\n",
        "        VARCHAR first_name\n",
        "        VARCHAR last_name\n",
        "        TIMESTAMP last_update\n",
        "    }\n",
        "\n",
        "    ADDRESS {\n",
        "        INT address_id PK\n",
        "        VARCHAR address\n",
        "        VARCHAR address2\n",
        "        VARCHAR district\n",
        "        INT city_id\n",
        "        VARCHAR postal_code\n",
        "        VARCHAR phone\n",
        "        TIMESTAMP last_update\n",
        "    }\n",
        "\n",
        "    CATEGORY {\n",
        "        INT category_id PK\n",
        "        VARCHAR name\n",
        "        TIMESTAMP last_update\n",
        "    }\n",
        "\n",
        "    CITY {\n",
        "        INT city_id PK\n",
        "        VARCHAR city\n",
        "        INT country_id\n",
        "        TIMESTAMP last_update\n",
        "    }\n",
        "\n",
        "    COUNTRY {\n",
        "        INT country_id PK\n",
        "        VARCHAR country\n",
        "        TIMESTAMP last_update\n",
        "    }\n",
        "\n",
        "    CUSTOMER {\n",
        "        INT customer_id PK\n",
        "        INT store_id\n",
        "        VARCHAR first_name\n",
        "        VARCHAR last_name\n",
        "        VARCHAR email\n",
        "        INT address_id\n",
        "        BOOLEAN active\n",
        "        DATETIME create_date\n",
        "        TIMESTAMP last_update\n",
        "    }\n",
        "\n",
        "    FILM {\n",
        "        INT film_id PK\n",
        "        VARCHAR title\n",
        "        VARCHAR description\n",
        "        INT release_year\n",
        "        INT language_id\n",
        "        INT original_language_id\n",
        "        INT rental_duration\n",
        "        DECIMAL rental_rate\n",
        "        INT length\n",
        "        DECIMAL replacement_cost\n",
        "        VARCHAR rating\n",
        "        VARCHAR special_features\n",
        "        TIMESTAMP last_update\n",
        "    }\n",
        "\n",
        "    FILM_ACTOR {\n",
        "        INT actor_id PK\n",
        "        INT film_id PK\n",
        "        TIMESTAMP last_update\n",
        "    }\n",
        "\n",
        "    FILM_CATEGORY {\n",
        "        INT film_id PK\n",
        "        INT category_id PK\n",
        "        TIMESTAMP last_update\n",
        "    }\n",
        "\n",
        "    INVENTORY {\n",
        "        INT inventory_id PK\n",
        "        INT film_id\n",
        "        INT store_id\n",
        "        TIMESTAMP last_update\n",
        "    }\n",
        "\n",
        "    LANGUAGE {\n",
        "        INT language_id PK\n",
        "        CHAR name\n",
        "        TIMESTAMP last_update\n",
        "    }\n",
        "\n",
        "    PAYMENT {\n",
        "        INT payment_id PK\n",
        "        INT customer_id\n",
        "        INT staff_id\n",
        "        INT rental_id\n",
        "        DECIMAL amount\n",
        "        DATETIME payment_date\n",
        "        TIMESTAMP last_update\n",
        "    }\n",
        "\n",
        "    RENTAL {\n",
        "        INT rental_id PK\n",
        "        DATETIME rental_date\n",
        "        INT inventory_id\n",
        "        INT customer_id\n",
        "        DATETIME return_date\n",
        "        INT staff_id\n",
        "        TIMESTAMP last_update\n",
        "    }\n",
        "\n",
        "    STAFF {\n",
        "        INT staff_id PK\n",
        "        VARCHAR first_name\n",
        "        VARCHAR last_name\n",
        "        INT address_id\n",
        "        BLOB picture\n",
        "        VARCHAR email\n",
        "        INT store_id\n",
        "        BOOLEAN active\n",
        "        VARCHAR username\n",
        "        VARCHAR password\n",
        "        TIMESTAMP last_update\n",
        "    }\n",
        "\n",
        "    STORE {\n",
        "        INT store_id PK\n",
        "        INT manager_staff_id\n",
        "        INT address_id\n",
        "        TIMESTAMP last_update\n",
        "    }\n",
        "\n",
        "    FILM ||--o{ FILM_ACTOR : has_actor\n",
        "    ACTOR ||--o{ FILM_ACTOR : plays_in\n",
        "    FILM ||--o{ FILM_CATEGORY : has_category\n",
        "    CATEGORY ||--o{ FILM_CATEGORY : includes_film\n",
        "    FILM }o--|| LANGUAGE : language\n",
        "    FILM }o--|| LANGUAGE : original_language\n",
        "    FILM ||--o{ INVENTORY : available_as\n",
        "    INVENTORY ||--o{ RENTAL : rented_as\n",
        "    RENTAL ||--|{ PAYMENT : paid_by\n",
        "    CUSTOMER ||--o{ RENTAL : makes\n",
        "    CUSTOMER ||--o{ PAYMENT : executes\n",
        "    INVENTORY }o--|| STORE : belongs_to\n",
        "    STORE ||--o{ STAFF : employs\n",
        "    STAFF ||--o{ RENTAL : manages\n",
        "    STAFF ||--o{ PAYMENT : processes\n",
        "    CUSTOMER }o--|| STORE : registered_at\n",
        "    CUSTOMER }o--|| ADDRESS : lives_at\n",
        "    STAFF }o--|| ADDRESS : resides_at\n",
        "    STORE }o--|| ADDRESS : located_at\n",
        "    ADDRESS }o--|| CITY : in\n",
        "    CITY }o--|| COUNTRY : in\n",
        "\n",
        "\n",
        "```\n",
        "\n",
        "\n",
        "## Requête 1 \n",
        "\n",
        "```{.sql include=\"SakilaQuery/queries/top_10_films.sql\"}\n",
        "```\n"
      ],
      "id": "019c338a"
    },
    {
      "cell_type": "code",
      "metadata": {},
      "source": [
        "table_query_results(\"queries/top_10_films.sql\", conn=conn)"
      ],
      "id": "77de78fb",
      "execution_count": null,
      "outputs": []
    },
    {
      "cell_type": "markdown",
      "metadata": {},
      "source": [
        "## Requête 2 \n",
        "\n",
        "```{.sql include=\"SakilaQuery/queries/top_clients.sql\"}\n",
        "```\n"
      ],
      "id": "2197615d"
    },
    {
      "cell_type": "code",
      "metadata": {},
      "source": [
        "table_query_results(\"queries/top_clients.sql\", conn=conn)"
      ],
      "id": "71662f33",
      "execution_count": null,
      "outputs": []
    },
    {
      "cell_type": "markdown",
      "metadata": {},
      "source": [
        "## Requête 3\n",
        "\n",
        "```{.sql include=\"SakilaQuery/queries/films_by_category.sql\"}\n",
        "```\n"
      ],
      "id": "52a8ae75"
    },
    {
      "cell_type": "code",
      "metadata": {},
      "source": [
        "table_query_results(\"queries/films_by_category.sql\", conn=conn)"
      ],
      "id": "c4436e9e",
      "execution_count": null,
      "outputs": []
    },
    {
      "cell_type": "markdown",
      "metadata": {},
      "source": [
        "## Requête 4 \n",
        "\n",
        "```{.sql include=\"SakilaQuery/queries/payments_by_month.sql\"}\n",
        "```\n"
      ],
      "id": "798ceebf"
    },
    {
      "cell_type": "code",
      "metadata": {},
      "source": [
        "table_query_results(\"queries/payments_by_month.sql\", conn=conn)"
      ],
      "id": "355b0fcc",
      "execution_count": null,
      "outputs": []
    },
    {
      "cell_type": "markdown",
      "metadata": {},
      "source": [
        "## Requête 5 \n",
        "\n",
        "```{.sql include=\"SakilaQuery/queries/staff_performance.sql\"}\n",
        "```\n"
      ],
      "id": "2961db2e"
    },
    {
      "cell_type": "code",
      "metadata": {},
      "source": [
        "table_query_results(\"queries/staff_performance.sql\", conn=conn)"
      ],
      "id": "35139a22",
      "execution_count": null,
      "outputs": []
    },
    {
      "cell_type": "markdown",
      "metadata": {},
      "source": [
        "## Requête 6\n",
        "\n",
        "```{.sql include=\"SakilaQuery/queries/avg_rental_duration.sql\"}\n",
        "```\n"
      ],
      "id": "e1ad3829"
    },
    {
      "cell_type": "code",
      "metadata": {},
      "source": [
        "table_query_results(\"queries/avg_rental_duration.sql\", conn=conn)"
      ],
      "id": "8686cb47",
      "execution_count": null,
      "outputs": []
    },
    {
      "cell_type": "markdown",
      "metadata": {},
      "source": [
        "## Requête 7\n",
        "\n",
        "```{.sql include=\"SakilaQuery/queries/popular_films.sql\"}\n",
        "```\n"
      ],
      "id": "6545247d"
    },
    {
      "cell_type": "code",
      "metadata": {},
      "source": [
        "table_query_results(\"queries/popular_films.sql\", conn=conn)"
      ],
      "id": "6ca6c5b8",
      "execution_count": null,
      "outputs": []
    },
    {
      "cell_type": "markdown",
      "metadata": {},
      "source": [
        "## Requête 8\n",
        "\n",
        "```{.sql include=\"SakilaQuery/queries/avg_rental_by_category.sql\"}\n",
        "```\n"
      ],
      "id": "81794890"
    },
    {
      "cell_type": "code",
      "metadata": {},
      "source": [
        "table_query_results(\"queries/avg_rental_by_category.sql\", conn=conn)"
      ],
      "id": "9f321e41",
      "execution_count": null,
      "outputs": []
    },
    {
      "cell_type": "markdown",
      "metadata": {},
      "source": [
        "## Requête 9\n",
        "\n",
        "```{.sql include=\"SakilaQuery/queries/customer_retention.sql\"}\n",
        "```\n"
      ],
      "id": "429c6f6a"
    },
    {
      "cell_type": "code",
      "metadata": {},
      "source": [
        "table_query_results(\"queries/customer_retention.sql\", conn=conn)"
      ],
      "id": "ce15c365",
      "execution_count": null,
      "outputs": []
    },
    {
      "cell_type": "markdown",
      "metadata": {},
      "source": [
        "## Requête 10\n",
        "\n",
        "```{.sql include=\"SakilaQuery/queries/top_employee_by_month.sql\"}\n",
        "```\n"
      ],
      "id": "c084413d"
    },
    {
      "cell_type": "code",
      "metadata": {},
      "source": [
        "table_query_results(\"queries/top_employee_by_month.sql\", conn=conn)"
      ],
      "id": "2dbc208d",
      "execution_count": null,
      "outputs": []
    },
    {
      "cell_type": "markdown",
      "metadata": {},
      "source": [
        "## Requête 11 \n",
        "\n",
        "```{.sql include=\"SakilaQuery/queries/revenue_per_minute.sql\"}\n",
        "```\n"
      ],
      "id": "17616db2"
    },
    {
      "cell_type": "code",
      "metadata": {},
      "source": [
        "table_query_results(\"queries/revenue_per_minute.sql\", conn=conn)"
      ],
      "id": "f1710fc8",
      "execution_count": null,
      "outputs": []
    },
    {
      "cell_type": "markdown",
      "metadata": {},
      "source": [
        "## Requête 12\n",
        "\n",
        "```{.sql include=\"SakilaQuery/queries/films_longer_than_avg.sql\"}\n",
        "```\n"
      ],
      "id": "d437341d"
    },
    {
      "cell_type": "code",
      "metadata": {},
      "source": [
        "table_query_results(\"queries/films_longer_than_avg.sql\", conn=conn)"
      ],
      "id": "7ff8b706",
      "execution_count": null,
      "outputs": []
    },
    {
      "cell_type": "markdown",
      "metadata": {},
      "source": [
        "## Requête 13\n",
        "\n",
        "```{.sql include=\"SakilaQuery/queries/rank_in_category.sql\"}\n",
        "```\n"
      ],
      "id": "adf124f6"
    },
    {
      "cell_type": "code",
      "metadata": {},
      "source": [
        "table_query_results(\"queries/rank_in_category.sql\", conn=conn)"
      ],
      "id": "4185b1ad",
      "execution_count": null,
      "outputs": []
    },
    {
      "cell_type": "markdown",
      "metadata": {},
      "source": [
        "## Requête 14\n",
        "\n",
        "```{.sql include=\"SakilaQuery/queries/rank_in_category.sql\"}\n",
        "```\n"
      ],
      "id": "c1bc2ad0"
    },
    {
      "cell_type": "code",
      "metadata": {},
      "source": [
        "table_query_results(\"queries/rank_in_category.sql\", conn=conn)"
      ],
      "id": "e310fe3d",
      "execution_count": null,
      "outputs": []
    },
    {
      "cell_type": "markdown",
      "metadata": {},
      "source": [
        "## Requête 15\n",
        "\n",
        "```{.sql include=\"SakilaQuery/queries/inactive_customers.sql\"}\n",
        "```\n"
      ],
      "id": "260dbbba"
    },
    {
      "cell_type": "code",
      "metadata": {},
      "source": [
        "table_query_results(\"queries/inactive_customers.sql\", conn=conn)"
      ],
      "id": "e1769efd",
      "execution_count": null,
      "outputs": []
    },
    {
      "cell_type": "markdown",
      "metadata": {},
      "source": [
        "## Requête 16\n",
        "\n",
        "```{.sql include=\"SakilaQuery/queries/payment_conversion.sql\"}\n",
        "```\n"
      ],
      "id": "1c795f9b"
    },
    {
      "cell_type": "code",
      "metadata": {},
      "source": [
        "table_query_results(\"queries/payment_conversion.sql\", conn=conn)"
      ],
      "id": "a60c24d3",
      "execution_count": null,
      "outputs": []
    },
    {
      "cell_type": "markdown",
      "metadata": {},
      "source": [
        "## Requête 17\n",
        "\n",
        "```{.sql include=\"SakilaQuery/queries/customer_total_spent.sql\"}\n",
        "```\n"
      ],
      "id": "7a619327"
    },
    {
      "cell_type": "code",
      "metadata": {},
      "source": [
        "table_query_results(\"queries/customer_total_spent.sql\", conn=conn)"
      ],
      "id": "b63d300e",
      "execution_count": null,
      "outputs": []
    }
  ],
  "metadata": {
    "kernelspec": {
      "display_name": "Python 3",
      "language": "python",
      "name": "python3"
    }
  },
  "nbformat": 4,
  "nbformat_minor": 5
}